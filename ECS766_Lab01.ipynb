{
 "cells": [
  {
   "cell_type": "markdown",
   "metadata": {},
   "source": [
    "# Lab session 1: Data"
   ]
  },
  {
   "cell_type": "markdown",
   "metadata": {},
   "source": [
    "## Introduction \n",
    "\n",
    "The aim of this lab is for students to familiarise with  **basic exploratory data analysis** of a sample dataset, and more specifically with the concepts of **summary statistics** and **data visualisation** covered in week 2. We will use  the Python's **pandas** package in this **notebook** environment. \n",
    "\n",
    "<font color = 'maroon'>*This session <ins>is a warm-up that will not count toward your final grade</ins>.*</font> \n",
    "\n"
   ]
  },
  {
   "cell_type": "markdown",
   "metadata": {},
   "source": [
    "### Before we start: \n",
    "\n",
    "This environment that allows us to enter both text and run codes interactively, is a web-based user-friendly environment called [Jupyter notebook](https://jupyter.org/).\n",
    "\n",
    "There are two types of cells: *Text* and *Code*. You can add your own cells. You can also edit the texts by double-clicking on them. It follows the [markup rules](https://github.com/adam-p/markdown-here/wiki/Markdown-Cheatsheet). \n",
    "\n",
    "In order to execute (run) a cell, you can use one of the following ways:\n",
    "\n",
    "0. `Shift + Enter` : executes a cell and goes to the next one.\n",
    "1. `Ctrl + Enter` : executes a block but stays at the same block. This is equivalent to clicking on the *run* button to the left of the cell, which appears when you hover the mouse over the `[ ]` icon. \n",
    "2. Use the `Runtime` tab (at the top of the page), which gives you more options as well.\n",
    "\n",
    "Now, test your knowledge by running the next cell (the output should appear right after):"
   ]
  },
  {
   "cell_type": "code",
   "execution_count": null,
   "metadata": {
    "colab": {},
    "colab_type": "code",
    "id": "v0T8VcP9DSWe"
   },
   "outputs": [],
   "source": [
    "for i in range(5):\n",
    "  print('{:2d} - Welcome to the Data Mining lab!'.format(2**i))"
   ]
  },
  {
   "cell_type": "markdown",
   "metadata": {
    "colab_type": "text",
    "id": "T_hB_CXQNTho"
   },
   "source": [
    "As you might have noticed, we will be using Python code. Let's have a word on why `Python`? \n",
    "\n",
    "*Well, for one, it is the most preferred language among data scientist, according to [this poll](https://www.kdnuggets.com/2018/05/poll-tools-analytics-data-science-machine-learning-results.html).\n",
    "Also it helps that it is a general purpose programming language with a simple syntax. It also has a lot of great open-source libraries -- which, in Python, we call them `packages` -- developed by an active community. If interested, [read more](https://www.cbtnuggets.com/blog/technology/data/why-data-scientists-love-python) on why Python is particularly so popular among data scientist.*"
   ]
  },
  {
   "cell_type": "markdown",
   "metadata": {},
   "source": [
    "### Some more `notebook` cool tricks:\n"
   ]
  },
  {
   "cell_type": "markdown",
   "metadata": {
    "colab_type": "text",
    "id": "Yqt3m-dISdQH"
   },
   "source": [
    "- You can use the **`tab`** button for auto-completing. You can also use `tab` after a **`dot`** to be shown a drop-down list of the available attributes and methods on an object or a class. For instance, let's create a string object called `mystring` (by executing the first cell), and use the `tab` key after a `dot` to see a list of available attributes and methods for a string object in Python (in the second cell: don't run it, just use the tab key after dot!)."
   ]
  },
  {
   "cell_type": "code",
   "execution_count": null,
   "metadata": {
    "colab": {},
    "colab_type": "code",
    "id": "5lWMrlANLVgS"
   },
   "outputs": [],
   "source": [
    "mystring = 'Hello, World!'"
   ]
  },
  {
   "cell_type": "code",
   "execution_count": null,
   "metadata": {
    "colab": {},
    "colab_type": "code",
    "id": "AaQ7X-h6OVOm",
    "scrolled": true
   },
   "outputs": [],
   "source": [
    "mystring."
   ]
  },
  {
   "cell_type": "markdown",
   "metadata": {
    "colab_type": "text",
    "id": "p7v8mCdQOpgZ"
   },
   "source": [
    "Note that in Python, every variable is an object. Also by now, you should have noticed that we do not need to explicitly declare variables and their types in Python before using them.\n",
    "\n",
    "Another thing to keep in mind is that objects and functions (runtime variables) persist between different cells in the same notebook session. If you want to clear the memory, you can choose \"`Reset all runtimes...`\" under the \"`Runtime`\" tab from the top-left menu. "
   ]
  },
  {
   "cell_type": "markdown",
   "metadata": {
    "colab_type": "text",
    "id": "9FjvhE_VR2BC"
   },
   "source": [
    "- Another useful point about the `notebook` environment is that if you want to get help on anything (a method, a function, an object, etc), you can just put a question mark in front of it and execute that line. For instance, let's get help on what the `strip` method does on a string object, by executing the following cell:"
   ]
  },
  {
   "cell_type": "code",
   "execution_count": null,
   "metadata": {
    "colab": {},
    "colab_type": "code",
    "id": "RJTJ4wLFSXTz"
   },
   "outputs": [],
   "source": [
    "mystring.strip?\n",
    "# This opens the help on the method \"strip\" at the bottom of this\n",
    "# page. You can close the help page after reading it.\n",
    "# By the way, this is how we designate a comment line in Python!"
   ]
  },
  {
   "cell_type": "markdown",
   "metadata": {
    "colab_type": "text",
    "id": "RQrmMEyJU9wa"
   },
   "source": [
    "From now on, we may give a hint about answering a question by putting a question mark in front of a command to open the help page for it for you. Your task is to complete the command. "
   ]
  },
  {
   "cell_type": "code",
   "execution_count": null,
   "metadata": {
    "colab": {},
    "colab_type": "code",
    "id": "WOhjRZRZVIVC"
   },
   "outputs": [],
   "source": [
    "print(mystring)\n",
    "print(mystring.strip())"
   ]
  },
  {
   "cell_type": "markdown",
   "metadata": {
    "colab_type": "text",
    "id": "KKlNqAg6MzRP"
   },
   "source": [
    "## 1.   Explore the Dataset -- using Python's `Pandas`"
   ]
  },
  {
   "cell_type": "markdown",
   "metadata": {
    "colab_type": "text",
    "id": "jMy4U6wpdclq"
   },
   "source": [
    "Here, we are going to perform some basic *exploratory data analysis* on some sample data.\n",
    "Data exploration refers to the preliminary investigation of data in order\n",
    "to better understand its specific characteristics. There are two key motivations for data exploration:\n",
    "1. To help users select the appropriate preprocessing and data analysis technique used.\n",
    "2. To make use of humans' abilities to recognize patterns in the data.\n",
    "\n",
    "The data is about the \"cars for sale\", which was collected in Summer 2014 from the website _Autotrader.com_,  by one of our MSc student who worked on a data mining project. The data is saved in a CSV file, called **`LondonCars.csv`**."
   ]
  },
  {
   "cell_type": "markdown",
   "metadata": {
    "colab_type": "text",
    "id": "MGVOTd6ml6NT"
   },
   "source": [
    "---\n",
    "> **Q0:** Why are such files called `CSV`? (Find out what CSV stands for. It may also help to try and open the file using a basic text editor).\n"
   ]
  },
  {
   "cell_type": "markdown",
   "metadata": {
    "colab_type": "text",
    "id": "dNKGLzR0OTSj"
   },
   "source": [
    "> **A0:** (*you can use this space to write your answer for your own note taking! Just double-click on this cell*)\n",
    "---"
   ]
  },
  {
   "cell_type": "markdown",
   "metadata": {},
   "source": [
    "### 1.1   Upload the CSV file to this machine.\n",
    "\n"
   ]
  },
  {
   "cell_type": "markdown",
   "metadata": {
    "colab_type": "text",
    "id": "ZvDYSO7gPnfU"
   },
   "source": [
    ">-   On the left side of this page, click on the arrow to \"Open the left pane\". \n",
    "-   From the \"Files\" tab, click on `UPLOAD`\n",
    "- Choose the CSV file that you downloaded from QM+ to your local machine, to be uploaded to *this machine*.\n",
    "\n",
    ">_Note:_ *By \"this machine\", we mean the virtual machine that is allocated to your account and running this notebook, hosted by Google Compute Engine. Note that next time you log in, the file may be gone and needs to be re-uploaded, as Google recycles Virtual machines when they are idle for a while.*"
   ]
  },
  {
   "cell_type": "markdown",
   "metadata": {},
   "source": [
    "### 1.2   Load the dataset from the CSV file:\n",
    "\n"
   ]
  },
  {
   "cell_type": "markdown",
   "metadata": {
    "colab_type": "text",
    "id": "k0gxX165m7JI"
   },
   "source": [
    "We will use a package in Python called [pandas](https://pandas.pydata.org/): it has many useful features to work with structured data, and is popular for its ease of use (and as is the case for any Python package, it is [open-source](https://github.com/pandas-dev/pandas)).\n"
   ]
  },
  {
   "cell_type": "markdown",
   "metadata": {
    "colab_type": "text",
    "id": "gFA_eR7m516a"
   },
   "source": [
    "So, let's start by reading the csv file into a `pandas' DataFrame`:\n",
    "\n",
    "(Note that we use **`import`** to (guess what) import a package in Python! We can also assign a different name (alias) to it, usually a shorthand name for convenience. For example, we typically `import pandas as pd`)\n",
    "\n",
    "Execute the following code block. \n",
    "\n",
    "\n",
    "\n",
    " \n"
   ]
  },
  {
   "cell_type": "code",
   "execution_count": null,
   "metadata": {
    "cellView": "both",
    "colab": {},
    "colab_type": "code",
    "id": "KjvGRNGgNnzF"
   },
   "outputs": [],
   "source": [
    "import pandas as pd\n",
    "df = pd.read_csv('./LondonCars2014.csv')"
   ]
  },
  {
   "cell_type": "markdown",
   "metadata": {
    "colab_type": "text",
    "id": "p_m8B7bVT98P"
   },
   "source": [
    "Let's get more information about the `read_csv` method that we used by executing the following cell:"
   ]
  },
  {
   "cell_type": "code",
   "execution_count": null,
   "metadata": {
    "colab": {},
    "colab_type": "code",
    "id": "zFLpA98_QmZa"
   },
   "outputs": [],
   "source": [
    "pd.read_csv?"
   ]
  },
  {
   "cell_type": "markdown",
   "metadata": {
    "colab_type": "text",
    "id": "exMOTcLuU20P"
   },
   "source": [
    "---\n",
    "> **Q1:** You should notice that the command has many options. When these options are not specified, their default values are taken. For example, find out what these default values were for our `read_csv`. Also find out, in particular, what the options `sep`, `header`, `index_col`, `usecols`, `dtype`, `na_values`, and `encoding` do."
   ]
  },
  {
   "cell_type": "markdown",
   "metadata": {
    "colab_type": "text",
    "id": "rt0KmDoOWURV"
   },
   "source": [
    "> **A1:** \n",
    "---"
   ]
  },
  {
   "cell_type": "markdown",
   "metadata": {},
   "source": [
    "### 1.3   Get general information about the data:\n",
    "\n"
   ]
  },
  {
   "cell_type": "markdown",
   "metadata": {
    "colab_type": "text",
    "id": "_OM7Gcip50oE"
   },
   "source": [
    "So far, we have read the csv file into a variable we called **`df`**: it is a pandas `DataFrame` object that contains the information in the csv file, along with many useful attributes and methods. For instance, let's print the first few entries along with the column names, to get a quick feeling about the data:\n"
   ]
  },
  {
   "cell_type": "code",
   "execution_count": null,
   "metadata": {
    "colab": {},
    "colab_type": "code",
    "id": "OyU38RdluTuA"
   },
   "outputs": [],
   "source": [
    "df.head()"
   ]
  },
  {
   "cell_type": "markdown",
   "metadata": {
    "colab_type": "text",
    "id": "14A7tQYoV8PH"
   },
   "source": [
    "We still don't know if the data-types are read correctly, we didn't specify them. The `info` method gives us a summary information: "
   ]
  },
  {
   "cell_type": "code",
   "execution_count": null,
   "metadata": {
    "colab": {},
    "colab_type": "code",
    "id": "cOKXPWk3N6sm"
   },
   "outputs": [],
   "source": [
    "df.info?"
   ]
  },
  {
   "cell_type": "markdown",
   "metadata": {
    "colab_type": "text",
    "id": "C5LylI4xWT9N"
   },
   "source": [
    "You should notice that the data-types are not exactly correct. For instance, the type for the `Doors` attribute (column) is inferred as numeric (64-bit integer), but this is wrong (why?). \n",
    "\n",
    "So let's fix them! "
   ]
  },
  {
   "cell_type": "code",
   "execution_count": null,
   "metadata": {
    "colab": {},
    "colab_type": "code",
    "id": "vZjVv-6mXrAe"
   },
   "outputs": [],
   "source": [
    "df = df.astype({'Make':'category', 'Model':'category', 'Year':'category', \n",
    "                'Mileage':'int32', 'Price':'int64', 'Body Style':'category', \n",
    "                'Ex Color':'category' , 'In Color':'category', \n",
    "                'Engine':'category', 'Transmission':'category', 'Doors':'category'})"
   ]
  },
  {
   "cell_type": "markdown",
   "metadata": {
    "colab": {},
    "colab_type": "code",
    "id": "CivnwTo2ZtME"
   },
   "source": [
    "Now, use the `info` method again to check if it had the desired effect:"
   ]
  },
  {
   "cell_type": "markdown",
   "metadata": {
    "colab_type": "text",
    "id": "jeNSjWhdcFu6"
   },
   "source": [
    "---\n",
    "> **Q2:** You should also notice a change between the reported `memory usage` (the last line reported by the `info` method). What is the change? How do you explain the change?"
   ]
  },
  {
   "cell_type": "markdown",
   "metadata": {
    "colab_type": "text",
    "id": "id8BF8wvb9g8"
   },
   "source": [
    "> **A2:** \n",
    "---"
   ]
  },
  {
   "cell_type": "markdown",
   "metadata": {
    "colab_type": "text",
    "id": "HG2CamjdPfFs"
   },
   "source": [
    "\n",
    "\n",
    "## 2. Basic exploratory questions using Python\n",
    "\n"
   ]
  },
  {
   "cell_type": "markdown",
   "metadata": {
    "colab_type": "text",
    "id": "_OM7Gcip50oE"
   },
   "source": [
    "Here we compute various summary statistics, which are quantities, such as the mean and standard deviation, that capture various characteristics of a potentially large set of values with a single number or a small set of numbers. \n"
   ]
  },
  {
   "cell_type": "markdown",
   "metadata": {
    "colab_type": "text",
    "id": "8yo2wMMFdINB"
   },
   "source": [
    "---\n",
    "> **Q3:** Use the provided hints to answer the questions about exploring your dataset."
   ]
  },
  {
   "cell_type": "markdown",
   "metadata": {
    "colab_type": "text",
    "id": "LIDYDNj7TJdd"
   },
   "source": [
    "> a. How many instances does the dataset have?"
   ]
  },
  {
   "cell_type": "code",
   "execution_count": null,
   "metadata": {
    "colab": {},
    "colab_type": "code",
    "id": "PHyGIQ2OTwfl"
   },
   "outputs": [],
   "source": [
    "# hint: interpret the output of the following code:\n",
    "print(df.shape)"
   ]
  },
  {
   "cell_type": "markdown",
   "metadata": {
    "colab_type": "text",
    "id": "IGbvaybkUIUR"
   },
   "source": [
    "> b. How many attributes?"
   ]
  },
  {
   "cell_type": "code",
   "execution_count": null,
   "metadata": {
    "colab": {},
    "colab_type": "code",
    "id": "Lq38Z5FVRQ5i"
   },
   "outputs": [],
   "source": [
    "# again, you can answer the question by interpreting the output of the same code:\n",
    "print(df.shape)"
   ]
  },
  {
   "cell_type": "markdown",
   "metadata": {
    "colab_type": "text",
    "id": "8SPh2orQW8KG"
   },
   "source": [
    "> c. What are the attributes?"
   ]
  },
  {
   "cell_type": "code",
   "execution_count": null,
   "metadata": {
    "colab": {},
    "colab_type": "code",
    "id": "BzDyp-DvXDiw"
   },
   "outputs": [],
   "source": [
    "# a pandas dataframe has an attribute called columns:\n",
    "print(df.columns)"
   ]
  },
  {
   "cell_type": "markdown",
   "metadata": {
    "colab_type": "text",
    "id": "5CvTYxKMXQ_5"
   },
   "source": [
    "> d. What are the possible values for **Body Style** & **External Color**?"
   ]
  },
  {
   "cell_type": "code",
   "execution_count": null,
   "metadata": {
    "colab": {},
    "colab_type": "code",
    "id": "-bIdyCeWXhFG"
   },
   "outputs": [],
   "source": [
    "# the \"unique\" method helps: \n",
    "print('Possible body styles:')\n",
    "print(df['Body Style'].unique())\n",
    "\n",
    "# now your turn, for external colour:\n",
    "print('Possible external colours:')\n",
    "print('?')"
   ]
  },
  {
   "cell_type": "markdown",
   "metadata": {
    "colab_type": "text",
    "id": "nNED-99zZf6w"
   },
   "source": [
    "> e. What is the *minimum*, *maximum*, *average*, *median* and *standard deviation* price?"
   ]
  },
  {
   "cell_type": "code",
   "execution_count": null,
   "metadata": {
    "colab": {},
    "colab_type": "code",
    "id": "NRvSaH7IZppP"
   },
   "outputs": [],
   "source": [
    "# these are easy, to get the minimum:\n",
    "print('min = {}'.format(df['Price'].min()))\n",
    "# now, you do the rest:\n",
    "print('max = {}'.format('?'))\n",
    "print('mean = {}'.format('?'))\n",
    "print('median = {}'.format('?'))\n",
    "print('Standard deviation = {}'.format('?'))"
   ]
  },
  {
   "cell_type": "markdown",
   "metadata": {
    "colab_type": "text",
    "id": "vm4fAH2RbHuX"
   },
   "source": [
    "> f. Why might the median price be different than the average price?"
   ]
  },
  {
   "cell_type": "markdown",
   "metadata": {
    "colab_type": "text",
    "id": "Yk9PQPvIbQpl"
   },
   "source": [
    "> g. What is the most common year of car?"
   ]
  },
  {
   "cell_type": "code",
   "execution_count": null,
   "metadata": {
    "colab": {},
    "colab_type": "code",
    "id": "b2mcEe-hbrpc"
   },
   "outputs": [],
   "source": [
    "# hint: you can either use the 'mode()' method, \n",
    "# or the value_counts() along with idxmax()\n",
    "print(df['Year'].mode())\n",
    "print('?')"
   ]
  },
  {
   "cell_type": "markdown",
   "metadata": {
    "colab_type": "text",
    "id": "2XLXYcq7cd9F"
   },
   "source": [
    "> h. What is the ratio of 2-door to 4-door cars? "
   ]
  },
  {
   "cell_type": "code",
   "execution_count": null,
   "metadata": {
    "colab": {},
    "colab_type": "code",
    "id": "fZrDVln8bAVc"
   },
   "outputs": [],
   "source": [
    "# Hint: you can use the output of the value_counts()...\n",
    "print(df['Doors'].value_counts())\n",
    "print('The ratio of 2-door to 4-door cars is: {}'.format('?'))"
   ]
  },
  {
   "cell_type": "markdown",
   "metadata": {
    "colab_type": "text",
    "id": "BbxDhMO0dj6h"
   },
   "source": [
    "> i. What is the average price of a Honda car versus a Mercedes-Benz car? **Hint:** Try $\\texttt{df.loc}$."
   ]
  },
  {
   "cell_type": "code",
   "execution_count": null,
   "metadata": {
    "colab": {},
    "colab_type": "code",
    "id": "T6yes3WGdvJ2"
   },
   "outputs": [],
   "source": [
    "# For Honda:\n",
    "print('Average price of a Honda car = {:.2f}'.format(df.loc[df['Make'] == 'Honda']['Price'].mean()))\n",
    "# Now you do for Mercedes-Benz:\n",
    "print('Average price of a Mercedes-Benz car = {:.2f}'.format(0.00))"
   ]
  },
  {
   "cell_type": "markdown",
   "metadata": {},
   "source": [
    "> j. It is also possible to display the summary for all the attributes simultaneously in a table using the describe() function. If an attribute is quantitative, it will display its mean, standard deviation and various quantiles (including minimum, median, and maximum) values. If an attribute is qualitative, it will display its number of unique values and the top (most frequent) values. \n",
    "\n",
    "**<font color=\"red\"></font>**"
   ]
  },
  {
   "cell_type": "code",
   "execution_count": null,
   "metadata": {},
   "outputs": [],
   "source": [
    "df.describe(include='all')"
   ]
  },
  {
   "cell_type": "markdown",
   "metadata": {},
   "source": [
    "Note that count refers to the number of non-missing values for each attribute."
   ]
  },
  {
   "cell_type": "markdown",
   "metadata": {},
   "source": [
    "> k. For multivariate statistics, you can compute the covariance and correlation between pairs of attributes.\n",
    "\n",
    "**<font color=\"red\"></font>**"
   ]
  },
  {
   "cell_type": "code",
   "execution_count": null,
   "metadata": {},
   "outputs": [],
   "source": [
    "print('Covariance:')\n",
    "df.cov()"
   ]
  },
  {
   "cell_type": "code",
   "execution_count": null,
   "metadata": {},
   "outputs": [],
   "source": [
    "print('Correlation:')\n",
    "df.corr()"
   ]
  },
  {
   "cell_type": "markdown",
   "metadata": {
    "colab_type": "text",
    "id": "FWoLpa4kld5u"
   },
   "source": [
    "---"
   ]
  },
  {
   "cell_type": "markdown",
   "metadata": {
    "colab_type": "text",
    "id": "ZViWoH9Pk2g3"
   },
   "source": [
    "## 3. Basic data visualisation using Python\n"
   ]
  },
  {
   "cell_type": "markdown",
   "metadata": {
    "colab_type": "text",
    "id": "_OM7Gcip50oE"
   },
   "source": [
    "Data visualization is the display of information in a graphic or tabular format. Successful visualization requires that the data (information) be converted into a visual format so that the characteristics of the data and the relationships among data items or attributes can be analyzed or reported. \n"
   ]
  },
  {
   "cell_type": "markdown",
   "metadata": {},
   "source": [
    "---\n",
    "> To display the histogram for the milieage attribute by discretizing it into 8 separate bins and counting the frequency for each bin, run this code:\n",
    "\n",
    "**<font color=\"red\"></font>**"
   ]
  },
  {
   "cell_type": "code",
   "execution_count": null,
   "metadata": {},
   "outputs": [],
   "source": [
    "%matplotlib inline\n",
    "\n",
    "df['Mileage'].hist(bins=8)"
   ]
  },
  {
   "cell_type": "markdown",
   "metadata": {},
   "source": [
    "> A boxplot can also be used to show the distribution of values for each attribute.\n",
    "\n",
    "**<font color=\"red\"></font>**"
   ]
  },
  {
   "cell_type": "code",
   "execution_count": null,
   "metadata": {},
   "outputs": [],
   "source": [
    "df.boxplot()"
   ]
  },
  {
   "cell_type": "markdown",
   "metadata": {},
   "source": [
    "> We can finally plot pairwise relationships in a dataset by running the code below. By default, this function will create a grid of axes such that each numeric variable in our dataset will be shared across the y-axes across a single row and the x-axes across a single column. In the diagonal plots, a univariate distribution plot is drawn to show the marginal distribution of the data in each column. Here scatterplot() is used for each pairing of the variables and histplot() for the marginal plots along the diagonal.\n",
    "\n",
    "**<font color=\"red\"></font>**"
   ]
  },
  {
   "cell_type": "code",
   "execution_count": null,
   "metadata": {
    "colab": {},
    "colab_type": "code",
    "id": "h9MF9IA2mBAE"
   },
   "outputs": [],
   "source": [
    "import seaborn as sns\n",
    "import matplotlib.pyplot as plt\n",
    "sns.pairplot(df)"
   ]
  },
  {
   "cell_type": "markdown",
   "metadata": {
    "colab_type": "text",
    "id": "Qn_a3nqYXH8N"
   },
   "source": [
    "---\n",
    "> **Q4:** Execute the command above and interpret what the plot is showing. In particular, describe the general trend between `mileage` and `price`, as well as `mileage` and `year`."
   ]
  },
  {
   "cell_type": "markdown",
   "metadata": {
    "colab_type": "text",
    "id": "xztMxUgTl6Vx"
   },
   "source": [
    "> **A4:**\n",
    "---"
   ]
  }
 ],
 "metadata": {
  "colab": {
   "collapsed_sections": [
    "FYZv8R_TImsZ"
   ],
   "name": "ECS766_Lab_1.ipynb",
   "provenance": []
  },
  "kernelspec": {
   "display_name": "Python 3",
   "language": "python",
   "name": "python3"
  },
  "language_info": {
   "codemirror_mode": {
    "name": "ipython",
    "version": 3
   },
   "file_extension": ".py",
   "mimetype": "text/x-python",
   "name": "python",
   "nbconvert_exporter": "python",
   "pygments_lexer": "ipython3",
   "version": "3.7.4"
  }
 },
 "nbformat": 4,
 "nbformat_minor": 1
}
